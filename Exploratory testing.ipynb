{
 "cells": [
  {
   "cell_type": "code",
   "execution_count": 29,
   "id": "d8956540",
   "metadata": {},
   "outputs": [],
   "source": [
    "import argparse\n",
    "import os\n",
    "import random\n",
    "import re\n",
    "import xml.etree.ElementTree as ET\n",
    "from pathlib import Path\n",
    "import pandas as pd\n",
    "import numpy as np\n"
   ]
  },
  {
   "cell_type": "code",
   "execution_count": 2,
   "id": "d063df26",
   "metadata": {},
   "outputs": [],
   "source": [
    "directory = r'/workspace/search_with_machine_learning_course/data/pruned_products/'"
   ]
  },
  {
   "cell_type": "code",
   "execution_count": 3,
   "id": "8ad78691",
   "metadata": {},
   "outputs": [],
   "source": [
    "def transform_name(product_name):\n",
    "    product_name = product_name.lower()\n",
    "    re.sub(r'[^\\w]', ' ', product_name)\n",
    "    return product_name"
   ]
  },
  {
   "cell_type": "code",
   "execution_count": 30,
   "id": "d858b216",
   "metadata": {},
   "outputs": [
    {
     "name": "stdout",
     "output_type": "stream",
     "text": [
      "Processing pruned_products_1.xml\n",
      "Processing pruned_products_2.xml\n",
      "Processing pruned_products_3.xml\n",
      "Processing pruned_products_4.xml\n",
      "Processing pruned_products_5.xml\n",
      "Processing pruned_products_6.xml\n"
     ]
    }
   ],
   "source": [
    "pairs = []\n",
    "for filename in os.listdir(directory):\n",
    "        if filename.endswith(\".xml\"):\n",
    "            print(\"Processing %s\" % filename)\n",
    "            f = os.path.join(directory, filename)\n",
    "            tree = ET.parse(f)\n",
    "            root = tree.getroot()\n",
    "            for child in root:\n",
    "                if random.random() > 1.0:\n",
    "                    continue\n",
    "                # Check to make sure category name is valid\n",
    "                if (child.find('name') is not None and child.find('name').text is not None and\n",
    "                    child.find('categoryPath') is not None and len(child.find('categoryPath')) > 0 and\n",
    "                    child.find('categoryPath')[len(child.find('categoryPath')) - 1][0].text is not None):\n",
    "                      # Choose last element in categoryPath as the leaf categoryId\n",
    "                      cat = child.find('categoryPath')[len(child.find('categoryPath')) - 1][0].text\n",
    "                      # Replace newline chars with spaces so fastText doesn't complain\n",
    "                      name = child.find('name').text.replace('\\n', ' ')\n",
    "                      #output.write(\"__label__%s %s\\n\" % (cat, transform_name(name)))\n",
    "                      pair = {\"category\": cat, \"name\": \"__label__%s %s\\n\" % (cat, transform_name(name))}\n",
    "                      pairs.append(pair)"
   ]
  },
  {
   "cell_type": "code",
   "execution_count": 31,
   "id": "6467d0fd",
   "metadata": {},
   "outputs": [],
   "source": [
    "df = pd.DataFrame(pairs)"
   ]
  },
  {
   "cell_type": "code",
   "execution_count": 32,
   "id": "b0bb0d47",
   "metadata": {},
   "outputs": [
    {
     "data": {
      "text/plain": [
       "1952"
      ]
     },
     "execution_count": 32,
     "metadata": {},
     "output_type": "execute_result"
    }
   ],
   "source": [
    "df['category'].unique().size"
   ]
  },
  {
   "cell_type": "code",
   "execution_count": 46,
   "id": "5cbe5e24",
   "metadata": {},
   "outputs": [],
   "source": [
    "# 1952 unique categories. yuck\n",
    "\n",
    "train = df.sample(frac = 0.05)\n",
    "test = df.sample(frac = 0.05)"
   ]
  },
  {
   "cell_type": "code",
   "execution_count": 34,
   "id": "27b9d1a7",
   "metadata": {},
   "outputs": [
    {
     "data": {
      "text/plain": [
       "11536"
      ]
     },
     "execution_count": 34,
     "metadata": {},
     "output_type": "execute_result"
    }
   ],
   "source": [
    "train.size"
   ]
  },
  {
   "cell_type": "code",
   "execution_count": 47,
   "id": "2a646c28",
   "metadata": {},
   "outputs": [
    {
     "data": {
      "text/html": [
       "<div>\n",
       "<style scoped>\n",
       "    .dataframe tbody tr th:only-of-type {\n",
       "        vertical-align: middle;\n",
       "    }\n",
       "\n",
       "    .dataframe tbody tr th {\n",
       "        vertical-align: top;\n",
       "    }\n",
       "\n",
       "    .dataframe thead th {\n",
       "        text-align: right;\n",
       "    }\n",
       "</style>\n",
       "<table border=\"1\" class=\"dataframe\">\n",
       "  <thead>\n",
       "    <tr style=\"text-align: right;\">\n",
       "      <th></th>\n",
       "      <th>category</th>\n",
       "      <th>name</th>\n",
       "    </tr>\n",
       "  </thead>\n",
       "  <tbody>\n",
       "    <tr>\n",
       "      <th>14665</th>\n",
       "      <td>pcmcat226200050022</td>\n",
       "      <td>__label__pcmcat226200050022 wild sales - los a...</td>\n",
       "    </tr>\n",
       "    <tr>\n",
       "      <th>77430</th>\n",
       "      <td>pcmcat180400050006</td>\n",
       "      <td>__label__pcmcat180400050006 canon eos 60d 18.0...</td>\n",
       "    </tr>\n",
       "    <tr>\n",
       "      <th>109698</th>\n",
       "      <td>abcat0705005</td>\n",
       "      <td>__label__abcat0705005 payout poker &amp; casino - ...</td>\n",
       "    </tr>\n",
       "    <tr>\n",
       "      <th>71719</th>\n",
       "      <td>abcat0905001</td>\n",
       "      <td>__label__abcat0905001 lg - kitchen series 24\" ...</td>\n",
       "    </tr>\n",
       "    <tr>\n",
       "      <th>29874</th>\n",
       "      <td>abcat0807004</td>\n",
       "      <td>__label__abcat0807004 epson - claria high-capa...</td>\n",
       "    </tr>\n",
       "  </tbody>\n",
       "</table>\n",
       "</div>"
      ],
      "text/plain": [
       "                  category                                               name\n",
       "14665   pcmcat226200050022  __label__pcmcat226200050022 wild sales - los a...\n",
       "77430   pcmcat180400050006  __label__pcmcat180400050006 canon eos 60d 18.0...\n",
       "109698        abcat0705005  __label__abcat0705005 payout poker & casino - ...\n",
       "71719         abcat0905001  __label__abcat0905001 lg - kitchen series 24\" ...\n",
       "29874         abcat0807004  __label__abcat0807004 epson - claria high-capa..."
      ]
     },
     "execution_count": 47,
     "metadata": {},
     "output_type": "execute_result"
    }
   ],
   "source": [
    "train.head()"
   ]
  },
  {
   "cell_type": "code",
   "execution_count": 36,
   "id": "5353a851",
   "metadata": {},
   "outputs": [],
   "source": [
    " import fasttext"
   ]
  },
  {
   "cell_type": "code",
   "execution_count": 48,
   "id": "d882762a",
   "metadata": {},
   "outputs": [],
   "source": [
    "np.savetxt(r\"/workspace/datasets/fasttext/products.train\", train.values, fmt='%s')\n",
    "np.savetxt(r\"/workspace/datasets/fasttext/products.test\", test.values, fmt='%s')"
   ]
  },
  {
   "cell_type": "code",
   "execution_count": 49,
   "id": "04bf4534",
   "metadata": {},
   "outputs": [
    {
     "name": "stderr",
     "output_type": "stream",
     "text": [
      "Read 0M words\n",
      "Number of words:  9241\n",
      "Number of labels: 1154\n",
      "Progress: 100.0% words/sec/thread:   16984 lr:  0.000000 avg.loss: 14.700533 ETA:   0h 0m 0s\n"
     ]
    }
   ],
   "source": [
    "model = fasttext.train_supervised(input=\"/workspace/datasets/fasttext/products.train\")"
   ]
  },
  {
   "cell_type": "code",
   "execution_count": 50,
   "id": "eb77457c",
   "metadata": {},
   "outputs": [
    {
     "data": {
      "text/plain": [
       "(('__label__pcmcat180400050006',), array([0.00898728]))"
      ]
     },
     "execution_count": 50,
     "metadata": {},
     "output_type": "execute_result"
    }
   ],
   "source": [
    "model.predict(\"apple ipad 2 16 GB\")"
   ]
  },
  {
   "cell_type": "code",
   "execution_count": 51,
   "id": "fb2f828e",
   "metadata": {},
   "outputs": [
    {
     "data": {
      "text/plain": [
       "(5368, 0.05290611028315946, 0.05290611028315946)"
      ]
     },
     "execution_count": 51,
     "metadata": {},
     "output_type": "execute_result"
    }
   ],
   "source": [
    "model.test(\"/workspace/datasets/fasttext/products.test\")"
   ]
  },
  {
   "cell_type": "code",
   "execution_count": 53,
   "id": "b0582075",
   "metadata": {},
   "outputs": [
    {
     "name": "stderr",
     "output_type": "stream",
     "text": [
      "Read 0M words\n",
      "Number of words:  9241\n",
      "Number of labels: 1154\n",
      "Progress: 100.0% words/sec/thread:   16872 lr:  0.000000 avg.loss:  1.851670 ETA:   0h 0m 0s100.0% words/sec/thread:   16872 lr: -0.000219 avg.loss:  1.851670 ETA:   0h 0m 0s\n"
     ]
    }
   ],
   "source": [
    "model = fasttext.train_supervised(input=\"/workspace/datasets/fasttext/products.train\", lr=1.0, epoch=25, wordNgrams=2)"
   ]
  },
  {
   "cell_type": "code",
   "execution_count": 54,
   "id": "5451c777",
   "metadata": {},
   "outputs": [
    {
     "data": {
      "text/plain": [
       "(5368, 0.7326751117734724, 0.7326751117734724)"
      ]
     },
     "execution_count": 54,
     "metadata": {},
     "output_type": "execute_result"
    }
   ],
   "source": [
    "model.test(\"/workspace/datasets/fasttext/products.test\")"
   ]
  },
  {
   "cell_type": "code",
   "execution_count": 55,
   "id": "e96ae39a",
   "metadata": {},
   "outputs": [],
   "source": [
    "model.save_model(\"/workspace/search_with_machine_learning_course/model_products.bin\")"
   ]
  }
 ],
 "metadata": {
  "kernelspec": {
   "display_name": "Python 3 (ipykernel)",
   "language": "python",
   "name": "python3"
  },
  "language_info": {
   "codemirror_mode": {
    "name": "ipython",
    "version": 3
   },
   "file_extension": ".py",
   "mimetype": "text/x-python",
   "name": "python",
   "nbconvert_exporter": "python",
   "pygments_lexer": "ipython3",
   "version": "3.9.7"
  }
 },
 "nbformat": 4,
 "nbformat_minor": 5
}
