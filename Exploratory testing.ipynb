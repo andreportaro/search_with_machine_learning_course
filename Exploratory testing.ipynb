{
 "cells": [
  {
   "cell_type": "code",
   "execution_count": 6,
   "id": "d8956540",
   "metadata": {},
   "outputs": [],
   "source": [
    "import argparse\n",
    "import os\n",
    "import random\n",
    "import re\n",
    "import xml.etree.ElementTree as ET\n",
    "from pathlib import Path\n",
    "import pandas as pd\n",
    "import numpy as np\n"
   ]
  },
  {
   "cell_type": "code",
   "execution_count": 7,
   "id": "d063df26",
   "metadata": {},
   "outputs": [],
   "source": [
    "directory = r'/workspace/search_with_machine_learning_course/data/pruned_products/'"
   ]
  },
  {
   "cell_type": "code",
   "execution_count": 8,
   "id": "8ad78691",
   "metadata": {},
   "outputs": [],
   "source": [
    "def transform_name(product_name):\n",
    "    product_name = product_name.lower()\n",
    "    re.sub(r'[^\\w]', ' ', product_name)\n",
    "    return product_name"
   ]
  },
  {
   "cell_type": "code",
   "execution_count": 9,
   "id": "d858b216",
   "metadata": {},
   "outputs": [
    {
     "name": "stdout",
     "output_type": "stream",
     "text": [
      "Processing pruned_products_1.xml\n",
      "Processing pruned_products_2.xml\n",
      "Processing pruned_products_3.xml\n",
      "Processing pruned_products_4.xml\n",
      "Processing pruned_products_5.xml\n",
      "Processing pruned_products_6.xml\n"
     ]
    }
   ],
   "source": [
    "pairs = []\n",
    "for filename in os.listdir(directory):\n",
    "        if filename.endswith(\".xml\"):\n",
    "            print(\"Processing %s\" % filename)\n",
    "            f = os.path.join(directory, filename)\n",
    "            tree = ET.parse(f)\n",
    "            root = tree.getroot()\n",
    "            for child in root:\n",
    "                if random.random() > 1.0:\n",
    "                    continue\n",
    "                # Check to make sure category name is valid\n",
    "                if (child.find('name') is not None and child.find('name').text is not None and\n",
    "                    child.find('categoryPath') is not None and len(child.find('categoryPath')) > 0 and\n",
    "                    child.find('categoryPath')[len(child.find('categoryPath')) - 1][0].text is not None):\n",
    "                      # Choose last element in categoryPath as the leaf categoryId\n",
    "                      cat = child.find('categoryPath')[len(child.find('categoryPath')) - 1][0].text\n",
    "                      # Replace newline chars with spaces so fastText doesn't complain\n",
    "                      name = child.find('name').text.replace('\\n', ' ')\n",
    "                      #output.write(\"__label__%s %s\\n\" % (cat, transform_name(name)))\n",
    "                      pair = {\"category\": cat, \"name\": \"__label__%s %s\\n\" % (cat, transform_name(name))}\n",
    "                      pairs.append(pair)"
   ]
  },
  {
   "cell_type": "code",
   "execution_count": 10,
   "id": "6467d0fd",
   "metadata": {},
   "outputs": [],
   "source": [
    "df = pd.DataFrame(pairs)"
   ]
  },
  {
   "cell_type": "code",
   "execution_count": 11,
   "id": "b0bb0d47",
   "metadata": {},
   "outputs": [
    {
     "data": {
      "text/plain": [
       "1952"
      ]
     },
     "execution_count": 11,
     "metadata": {},
     "output_type": "execute_result"
    }
   ],
   "source": [
    "df['category'].unique().size"
   ]
  },
  {
   "cell_type": "code",
   "execution_count": 12,
   "id": "5cbe5e24",
   "metadata": {},
   "outputs": [],
   "source": [
    "# 1952 unique categories. yuck\n",
    "\n",
    "sample = df.sample(frac = 0.05)\n"
   ]
  },
  {
   "cell_type": "code",
   "execution_count": 16,
   "id": "27b9d1a7",
   "metadata": {},
   "outputs": [],
   "source": [
    "train = sample.head(5000)\n",
    "test = sample.tail(5000)"
   ]
  },
  {
   "cell_type": "code",
   "execution_count": 20,
   "id": "2a646c28",
   "metadata": {},
   "outputs": [
    {
     "data": {
      "text/html": [
       "<div>\n",
       "<style scoped>\n",
       "    .dataframe tbody tr th:only-of-type {\n",
       "        vertical-align: middle;\n",
       "    }\n",
       "\n",
       "    .dataframe tbody tr th {\n",
       "        vertical-align: top;\n",
       "    }\n",
       "\n",
       "    .dataframe thead th {\n",
       "        text-align: right;\n",
       "    }\n",
       "</style>\n",
       "<table border=\"1\" class=\"dataframe\">\n",
       "  <thead>\n",
       "    <tr style=\"text-align: right;\">\n",
       "      <th></th>\n",
       "      <th>category</th>\n",
       "      <th>name</th>\n",
       "    </tr>\n",
       "  </thead>\n",
       "  <tbody>\n",
       "    <tr>\n",
       "      <th>89691</th>\n",
       "      <td>abcat0912025</td>\n",
       "      <td>__label__abcat0912025 simplehuman - size m sur...</td>\n",
       "    </tr>\n",
       "    <tr>\n",
       "      <th>37042</th>\n",
       "      <td>abcat0910004</td>\n",
       "      <td>__label__abcat0910004 ge - 7.0 cu. ft. super c...</td>\n",
       "    </tr>\n",
       "    <tr>\n",
       "      <th>97731</th>\n",
       "      <td>pcmcat226200050005</td>\n",
       "      <td>__label__pcmcat226200050005 tribeca - boston c...</td>\n",
       "    </tr>\n",
       "    <tr>\n",
       "      <th>107128</th>\n",
       "      <td>pcmcat250300050009</td>\n",
       "      <td>__label__pcmcat250300050009 huffy - granite 24...</td>\n",
       "    </tr>\n",
       "    <tr>\n",
       "      <th>110620</th>\n",
       "      <td>pcmcat161500050000</td>\n",
       "      <td>__label__pcmcat161500050000 samsung - refurbis...</td>\n",
       "    </tr>\n",
       "  </tbody>\n",
       "</table>\n",
       "</div>"
      ],
      "text/plain": [
       "                  category                                               name\n",
       "89691         abcat0912025  __label__abcat0912025 simplehuman - size m sur...\n",
       "37042         abcat0910004  __label__abcat0910004 ge - 7.0 cu. ft. super c...\n",
       "97731   pcmcat226200050005  __label__pcmcat226200050005 tribeca - boston c...\n",
       "107128  pcmcat250300050009  __label__pcmcat250300050009 huffy - granite 24...\n",
       "110620  pcmcat161500050000  __label__pcmcat161500050000 samsung - refurbis..."
      ]
     },
     "execution_count": 20,
     "metadata": {},
     "output_type": "execute_result"
    }
   ],
   "source": [
    "train.head()"
   ]
  },
  {
   "cell_type": "code",
   "execution_count": 21,
   "id": "5353a851",
   "metadata": {},
   "outputs": [],
   "source": [
    " import fasttext"
   ]
  },
  {
   "cell_type": "code",
   "execution_count": 22,
   "id": "d882762a",
   "metadata": {},
   "outputs": [],
   "source": [
    "np.savetxt(r\"/workspace/datasets/fasttext/products.train\", train.values, fmt='%s')\n",
    "np.savetxt(r\"/workspace/datasets/fasttext/products.test\", test.values, fmt='%s')"
   ]
  },
  {
   "cell_type": "code",
   "execution_count": 23,
   "id": "04bf4534",
   "metadata": {},
   "outputs": [
    {
     "name": "stderr",
     "output_type": "stream",
     "text": [
      "Read 0M words\n",
      "Number of words:  8625\n",
      "Number of labels: 1109\n",
      "Progress: 100.0% words/sec/thread:   16344 lr:  0.000000 avg.loss: 15.361784 ETA:   0h 0m 0s\n"
     ]
    }
   ],
   "source": [
    "model = fasttext.train_supervised(input=\"/workspace/datasets/fasttext/products.train\")"
   ]
  },
  {
   "cell_type": "code",
   "execution_count": 24,
   "id": "eb77457c",
   "metadata": {},
   "outputs": [
    {
     "data": {
      "text/plain": [
       "(('__label__abcat0101001',), array([0.00784811]))"
      ]
     },
     "execution_count": 24,
     "metadata": {},
     "output_type": "execute_result"
    }
   ],
   "source": [
    "model.predict(\"apple ipad 2 16 GB\")"
   ]
  },
  {
   "cell_type": "code",
   "execution_count": 25,
   "id": "fb2f828e",
   "metadata": {},
   "outputs": [
    {
     "data": {
      "text/plain": [
       "(4940, 0.015587044534412956, 0.015587044534412956)"
      ]
     },
     "execution_count": 25,
     "metadata": {},
     "output_type": "execute_result"
    }
   ],
   "source": [
    "model.test(\"/workspace/datasets/fasttext/products.test\")"
   ]
  },
  {
   "cell_type": "code",
   "execution_count": 26,
   "id": "b0582075",
   "metadata": {},
   "outputs": [
    {
     "name": "stderr",
     "output_type": "stream",
     "text": [
      "Read 0M words\n",
      "Number of words:  8625\n",
      "Number of labels: 1109\n",
      "Progress: 100.0% words/sec/thread:   17265 lr:  0.000000 avg.loss:  2.049963 ETA:   0h 0m 0s\n"
     ]
    }
   ],
   "source": [
    "model = fasttext.train_supervised(input=\"/workspace/datasets/fasttext/products.train\", lr=1.0, epoch=25, wordNgrams=2)"
   ]
  },
  {
   "cell_type": "code",
   "execution_count": 27,
   "id": "5451c777",
   "metadata": {},
   "outputs": [
    {
     "data": {
      "text/plain": [
       "(4940, 0.952834008097166, 0.952834008097166)"
      ]
     },
     "execution_count": 27,
     "metadata": {},
     "output_type": "execute_result"
    }
   ],
   "source": [
    "model.test(\"/workspace/datasets/fasttext/products.test\")"
   ]
  },
  {
   "cell_type": "code",
   "execution_count": 30,
   "id": "e96ae39a",
   "metadata": {},
   "outputs": [],
   "source": [
    "model.save_model(\"/workspace/search_with_machine_learning_course/model_products.bin\")"
   ]
  }
 ],
 "metadata": {
  "kernelspec": {
   "display_name": "Python 3 (ipykernel)",
   "language": "python",
   "name": "python3"
  },
  "language_info": {
   "codemirror_mode": {
    "name": "ipython",
    "version": 3
   },
   "file_extension": ".py",
   "mimetype": "text/x-python",
   "name": "python",
   "nbconvert_exporter": "python",
   "pygments_lexer": "ipython3",
   "version": "3.9.7"
  }
 },
 "nbformat": 4,
 "nbformat_minor": 5
}
