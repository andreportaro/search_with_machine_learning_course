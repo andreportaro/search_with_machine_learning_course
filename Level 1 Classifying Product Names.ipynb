{
 "cells": [
  {
   "cell_type": "code",
   "execution_count": 3,
   "id": "d8956540",
   "metadata": {},
   "outputs": [],
   "source": [
    "import argparse\n",
    "import os\n",
    "import random\n",
    "import re\n",
    "import xml.etree.ElementTree as ET\n",
    "from pathlib import Path\n",
    "import pandas as pd\n",
    "import numpy as np\n"
   ]
  },
  {
   "cell_type": "code",
   "execution_count": 4,
   "id": "d063df26",
   "metadata": {},
   "outputs": [],
   "source": [
    "directory = r'/workspace/search_with_machine_learning_course/data/pruned_products/'"
   ]
  },
  {
   "cell_type": "code",
   "execution_count": 5,
   "id": "8ad78691",
   "metadata": {},
   "outputs": [],
   "source": [
    "def transform_name(product_name):\n",
    "    product_name = product_name.lower()\n",
    "    product_name = re.sub(r'[^\\w]', ' ', product_name)\n",
    "    return product_name"
   ]
  },
  {
   "cell_type": "code",
   "execution_count": 6,
   "id": "d858b216",
   "metadata": {},
   "outputs": [
    {
     "name": "stdout",
     "output_type": "stream",
     "text": [
      "Processing pruned_products_1.xml\n",
      "Processing pruned_products_2.xml\n",
      "Processing pruned_products_3.xml\n",
      "Processing pruned_products_4.xml\n",
      "Processing pruned_products_5.xml\n",
      "Processing pruned_products_6.xml\n"
     ]
    }
   ],
   "source": [
    "pairs = []\n",
    "for filename in os.listdir(directory):\n",
    "        if filename.endswith(\".xml\"):\n",
    "            print(\"Processing %s\" % filename)\n",
    "            f = os.path.join(directory, filename)\n",
    "            tree = ET.parse(f)\n",
    "            root = tree.getroot()\n",
    "            for child in root:\n",
    "                if random.random() > 1.0:\n",
    "                    continue\n",
    "                # Check to make sure category name is valid\n",
    "                if (child.find('name') is not None and child.find('name').text is not None and\n",
    "                    child.find('categoryPath') is not None and len(child.find('categoryPath')) > 0 and\n",
    "                    child.find('categoryPath')[len(child.find('categoryPath')) - 1][0].text is not None):\n",
    "                      # Choose last element in categoryPath as the leaf categoryId\n",
    "                      cat = child.find('categoryPath')[len(child.find('categoryPath')) - 1][0].text\n",
    "                      # Replace newline chars with spaces so fastText doesn't complain\n",
    "                      name = child.find('name').text.replace('\\n', ' ')\n",
    "                      #output.write(\"__label__%s %s\\n\" % (cat, transform_name(name)))\n",
    "                      pair = {\"category\": cat, \"name\": \"__label__%s %s\\n\" % (cat, transform_name(name))}\n",
    "                      pairs.append(pair)"
   ]
  },
  {
   "cell_type": "code",
   "execution_count": 7,
   "id": "6467d0fd",
   "metadata": {},
   "outputs": [],
   "source": [
    "df = pd.DataFrame(pairs)"
   ]
  },
  {
   "cell_type": "code",
   "execution_count": 8,
   "id": "b0bb0d47",
   "metadata": {},
   "outputs": [
    {
     "data": {
      "text/plain": [
       "1952"
      ]
     },
     "execution_count": 8,
     "metadata": {},
     "output_type": "execute_result"
    }
   ],
   "source": [
    "df['category'].unique().size"
   ]
  },
  {
   "cell_type": "code",
   "execution_count": 9,
   "id": "5cbe5e24",
   "metadata": {},
   "outputs": [],
   "source": [
    "# 1952 unique categories. yuck\n",
    "\n",
    "sample = df.sample(frac = 0.05)\n"
   ]
  },
  {
   "cell_type": "code",
   "execution_count": 10,
   "id": "27b9d1a7",
   "metadata": {},
   "outputs": [],
   "source": [
    "train = sample.head(5000)\n",
    "test = sample.tail(5000)"
   ]
  },
  {
   "cell_type": "code",
   "execution_count": 11,
   "id": "2a646c28",
   "metadata": {},
   "outputs": [
    {
     "data": {
      "text/html": [
       "<div>\n",
       "<style scoped>\n",
       "    .dataframe tbody tr th:only-of-type {\n",
       "        vertical-align: middle;\n",
       "    }\n",
       "\n",
       "    .dataframe tbody tr th {\n",
       "        vertical-align: top;\n",
       "    }\n",
       "\n",
       "    .dataframe thead th {\n",
       "        text-align: right;\n",
       "    }\n",
       "</style>\n",
       "<table border=\"1\" class=\"dataframe\">\n",
       "  <thead>\n",
       "    <tr style=\"text-align: right;\">\n",
       "      <th></th>\n",
       "      <th>category</th>\n",
       "      <th>name</th>\n",
       "    </tr>\n",
       "  </thead>\n",
       "  <tbody>\n",
       "    <tr>\n",
       "      <th>64909</th>\n",
       "      <td>pcmcat152100050032</td>\n",
       "      <td>__label__pcmcat152100050032 american dj   chas...</td>\n",
       "    </tr>\n",
       "    <tr>\n",
       "      <th>51916</th>\n",
       "      <td>pcmcat247400050000</td>\n",
       "      <td>__label__pcmcat247400050000 dell   14  inspiro...</td>\n",
       "    </tr>\n",
       "    <tr>\n",
       "      <th>103171</th>\n",
       "      <td>abcat0916002</td>\n",
       "      <td>__label__abcat0916002 smart choice   30 amp 3 ...</td>\n",
       "    </tr>\n",
       "    <tr>\n",
       "      <th>36460</th>\n",
       "      <td>pcmcat147400050016</td>\n",
       "      <td>__label__pcmcat147400050016 dr  daisy   mac wi...</td>\n",
       "    </tr>\n",
       "    <tr>\n",
       "      <th>30101</th>\n",
       "      <td>abcat0701003</td>\n",
       "      <td>__label__abcat0701003 halo wars platinum hits ...</td>\n",
       "    </tr>\n",
       "  </tbody>\n",
       "</table>\n",
       "</div>"
      ],
      "text/plain": [
       "                  category                                               name\n",
       "64909   pcmcat152100050032  __label__pcmcat152100050032 american dj   chas...\n",
       "51916   pcmcat247400050000  __label__pcmcat247400050000 dell   14  inspiro...\n",
       "103171        abcat0916002  __label__abcat0916002 smart choice   30 amp 3 ...\n",
       "36460   pcmcat147400050016  __label__pcmcat147400050016 dr  daisy   mac wi...\n",
       "30101         abcat0701003  __label__abcat0701003 halo wars platinum hits ..."
      ]
     },
     "execution_count": 11,
     "metadata": {},
     "output_type": "execute_result"
    }
   ],
   "source": [
    "train.head()"
   ]
  },
  {
   "cell_type": "code",
   "execution_count": 14,
   "id": "5353a851",
   "metadata": {},
   "outputs": [],
   "source": [
    " import fasttext"
   ]
  },
  {
   "cell_type": "code",
   "execution_count": 15,
   "id": "d882762a",
   "metadata": {},
   "outputs": [],
   "source": [
    "np.savetxt(r\"/workspace/datasets/fasttext/products.train\", train.values, fmt='%s')\n",
    "np.savetxt(r\"/workspace/datasets/fasttext/products.test\", test.values, fmt='%s')"
   ]
  },
  {
   "cell_type": "code",
   "execution_count": 16,
   "id": "04bf4534",
   "metadata": {},
   "outputs": [
    {
     "name": "stderr",
     "output_type": "stream",
     "text": [
      "Read 0M words\n",
      "Number of words:  7248\n",
      "Number of labels: 1103\n",
      "Progress: 100.0% words/sec/thread:   16080 lr:  0.000000 avg.loss: 16.653025 ETA:   0h 0m 0s100.0% words/sec/thread:   16082 lr: -0.000030 avg.loss: 16.653025 ETA:   0h 0m 0s\n"
     ]
    }
   ],
   "source": [
    "model = fasttext.train_supervised(input=\"/workspace/datasets/fasttext/products.train\")"
   ]
  },
  {
   "cell_type": "code",
   "execution_count": 17,
   "id": "eb77457c",
   "metadata": {},
   "outputs": [
    {
     "data": {
      "text/plain": [
       "(('__label__abcat0101001',), array([0.10049994]))"
      ]
     },
     "execution_count": 17,
     "metadata": {},
     "output_type": "execute_result"
    }
   ],
   "source": [
    "model.predict(\"apple ipad 2 16 GB\")"
   ]
  },
  {
   "cell_type": "code",
   "execution_count": 18,
   "id": "fb2f828e",
   "metadata": {},
   "outputs": [
    {
     "data": {
      "text/plain": [
       "(4956, 0.01916868442292171, 0.01916868442292171)"
      ]
     },
     "execution_count": 18,
     "metadata": {},
     "output_type": "execute_result"
    }
   ],
   "source": [
    "model.test(\"/workspace/datasets/fasttext/products.test\")"
   ]
  },
  {
   "cell_type": "code",
   "execution_count": 19,
   "id": "b0582075",
   "metadata": {},
   "outputs": [
    {
     "name": "stderr",
     "output_type": "stream",
     "text": [
      "Read 0M words\n",
      "Number of words:  7248\n",
      "Number of labels: 1103\n",
      "Progress: 100.0% words/sec/thread:   16696 lr:  0.000000 avg.loss:  1.910166 ETA:   0h 0m 0s 46.6% words/sec/thread:   17052 lr:  0.533974 avg.loss:  4.013265 ETA:   0h 0m 3s\n"
     ]
    }
   ],
   "source": [
    "model = fasttext.train_supervised(input=\"/workspace/datasets/fasttext/products.train\", lr=1.0, epoch=25, wordNgrams=2)"
   ]
  },
  {
   "cell_type": "code",
   "execution_count": 20,
   "id": "5451c777",
   "metadata": {},
   "outputs": [
    {
     "data": {
      "text/plain": [
       "(4956, 0.9533898305084746, 0.9533898305084746)"
      ]
     },
     "execution_count": 20,
     "metadata": {},
     "output_type": "execute_result"
    }
   ],
   "source": [
    "model.test(\"/workspace/datasets/fasttext/products.test\")"
   ]
  },
  {
   "cell_type": "code",
   "execution_count": 21,
   "id": "e96ae39a",
   "metadata": {},
   "outputs": [],
   "source": [
    "model.save_model(\"/workspace/search_with_machine_learning_course/model_products.bin\")"
   ]
  }
 ],
 "metadata": {
  "kernelspec": {
   "display_name": "Python 3 (ipykernel)",
   "language": "python",
   "name": "python3"
  },
  "language_info": {
   "codemirror_mode": {
    "name": "ipython",
    "version": 3
   },
   "file_extension": ".py",
   "mimetype": "text/x-python",
   "name": "python",
   "nbconvert_exporter": "python",
   "pygments_lexer": "ipython3",
   "version": "3.9.7"
  }
 },
 "nbformat": 4,
 "nbformat_minor": 5
}
