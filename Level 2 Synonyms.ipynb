{
 "cells": [
  {
   "cell_type": "code",
   "execution_count": 1,
   "id": "d8956540",
   "metadata": {},
   "outputs": [],
   "source": [
    "import argparse\n",
    "import os\n",
    "import random\n",
    "import re\n",
    "import xml.etree.ElementTree as ET\n",
    "from pathlib import Path\n",
    "import pandas as pd\n",
    "import numpy as np\n"
   ]
  },
  {
   "cell_type": "code",
   "execution_count": 2,
   "id": "d063df26",
   "metadata": {},
   "outputs": [],
   "source": [
    "directory = r'/workspace/search_with_machine_learning_course/data/pruned_products'\n",
    "output_file = r'/workspace/datasets/fasttext/titles.txt'"
   ]
  },
  {
   "cell_type": "code",
   "execution_count": 107,
   "id": "8ad78691",
   "metadata": {},
   "outputs": [],
   "source": [
    "\n",
    "def transform_training_data(name):\n",
    "    name = name.lower()\n",
    "    name = re.sub(\"[^0-9a-zA-Z]+\", \" \", name)\n",
    "    name = re.sub(r'[^\\w]|\\t|\\n', ' ', name)\n",
    "    \n",
    "    return name\n"
   ]
  },
  {
   "cell_type": "code",
   "execution_count": 108,
   "id": "d858b216",
   "metadata": {},
   "outputs": [],
   "source": [
    "titles = []\n",
    "sample_rate = 1\n",
    "\n",
    "for filename in os.listdir(directory):\n",
    "    if filename.endswith(\".xml\"):\n",
    "        f = os.path.join(directory, filename)\n",
    "        tree = ET.parse(f)\n",
    "        root = tree.getroot()\n",
    "        for child in root:\n",
    "            if random.random() > 0.1:\n",
    "                continue\n",
    "            if (child.find('name') is not None and child.find('name').text is not None):\n",
    "                name = transform_training_data(child.find('name').text)\n",
    "                titles.append(name)"
   ]
  },
  {
   "cell_type": "code",
   "execution_count": 109,
   "id": "6467d0fd",
   "metadata": {},
   "outputs": [],
   "source": [
    "df = pd.DataFrame(titles)"
   ]
  },
  {
   "cell_type": "code",
   "execution_count": 110,
   "id": "b0bb0d47",
   "metadata": {},
   "outputs": [
    {
     "data": {
      "text/plain": [
       "11470"
      ]
     },
     "execution_count": 110,
     "metadata": {},
     "output_type": "execute_result"
    }
   ],
   "source": [
    "df.size"
   ]
  },
  {
   "cell_type": "code",
   "execution_count": 111,
   "id": "2a646c28",
   "metadata": {},
   "outputs": [
    {
     "data": {
      "text/html": [
       "<div>\n",
       "<style scoped>\n",
       "    .dataframe tbody tr th:only-of-type {\n",
       "        vertical-align: middle;\n",
       "    }\n",
       "\n",
       "    .dataframe tbody tr th {\n",
       "        vertical-align: top;\n",
       "    }\n",
       "\n",
       "    .dataframe thead th {\n",
       "        text-align: right;\n",
       "    }\n",
       "</style>\n",
       "<table border=\"1\" class=\"dataframe\">\n",
       "  <thead>\n",
       "    <tr style=\"text-align: right;\">\n",
       "      <th></th>\n",
       "      <th>0</th>\n",
       "    </tr>\n",
       "  </thead>\n",
       "  <tbody>\n",
       "    <tr>\n",
       "      <th>0</th>\n",
       "      <td>hp 60 ink cartridge twin pack black</td>\n",
       "    </tr>\n",
       "    <tr>\n",
       "      <th>1</th>\n",
       "      <td>pantech pocket 4g mobile phone black at t</td>\n",
       "    </tr>\n",
       "    <tr>\n",
       "      <th>2</th>\n",
       "      <td>super mario 3d land game guide nintendo 3ds</td>\n",
       "    </tr>\n",
       "  </tbody>\n",
       "</table>\n",
       "</div>"
      ],
      "text/plain": [
       "                                             0\n",
       "0          hp 60 ink cartridge twin pack black\n",
       "1   pantech pocket 4g mobile phone black at t \n",
       "2  super mario 3d land game guide nintendo 3ds"
      ]
     },
     "execution_count": 111,
     "metadata": {},
     "output_type": "execute_result"
    }
   ],
   "source": [
    "df.head(3)"
   ]
  },
  {
   "cell_type": "code",
   "execution_count": 112,
   "id": "5353a851",
   "metadata": {},
   "outputs": [],
   "source": [
    " import fasttext"
   ]
  },
  {
   "cell_type": "code",
   "execution_count": 113,
   "id": "d882762a",
   "metadata": {},
   "outputs": [],
   "source": [
    "np.savetxt(r\"/workspace/datasets/fasttext/titles.txt\", df.values, fmt='%s')"
   ]
  },
  {
   "cell_type": "code",
   "execution_count": 114,
   "id": "04bf4534",
   "metadata": {},
   "outputs": [
    {
     "name": "stderr",
     "output_type": "stream",
     "text": [
      "Read 0M words\n",
      "Number of words:  2332\n",
      "Number of labels: 0\n",
      "Progress: 100.0% words/sec/thread:   52034 lr:  0.000000 avg.loss:  2.601377 ETA:   0h 0m 0s\n"
     ]
    }
   ],
   "source": [
    "model = fasttext.train_unsupervised(input=\"/workspace/datasets/fasttext/titles.txt\", model='skipgram')"
   ]
  },
  {
   "cell_type": "code",
   "execution_count": 115,
   "id": "eb77457c",
   "metadata": {},
   "outputs": [
    {
     "data": {
      "text/plain": [
       "[(0.9850426316261292, 'phones'),\n",
       " (0.9826255440711975, 'phone'),\n",
       " (0.9485659599304199, 'mobile'),\n",
       " (0.941804826259613, 'microphone'),\n",
       " (0.9377111196517944, 'motorola'),\n",
       " (0.9341446161270142, 'microphones'),\n",
       " (0.9266576170921326, 'smartphones'),\n",
       " (0.925964891910553, 'silicone'),\n",
       " (0.92539381980896, 'zone'),\n",
       " (0.9229100942611694, 'apple')]"
      ]
     },
     "execution_count": 115,
     "metadata": {},
     "output_type": "execute_result"
    }
   ],
   "source": [
    "model.get_nearest_neighbors(\"iphone\")"
   ]
  },
  {
   "cell_type": "code",
   "execution_count": 132,
   "id": "f1768d3d",
   "metadata": {},
   "outputs": [
    {
     "name": "stderr",
     "output_type": "stream",
     "text": [
      "Read 0M words\n",
      "Number of words:  545\n",
      "Number of labels: 0\n",
      "Progress: 100.0% words/sec/thread:  120485 lr:  0.000000 avg.loss:  1.738667 ETA:   0h 0m 0s\n"
     ]
    }
   ],
   "source": [
    "model = fasttext.train_unsupervised(input=\"/workspace/datasets/fasttext/titles.txt\", model='skipgram', epoch=20, minCount=30)"
   ]
  },
  {
   "cell_type": "code",
   "execution_count": 133,
   "id": "f47793be",
   "metadata": {},
   "outputs": [
    {
     "data": {
      "text/plain": [
       "[(0.7442602515220642, 'apple'),\n",
       " (0.7395263910293579, 'ipod'),\n",
       " (0.7249903082847595, 'shell'),\n",
       " (0.7109566926956177, '4th'),\n",
       " (0.693930983543396, 'tribeca'),\n",
       " (0.6787998676300049, '3rd'),\n",
       " (0.6646546721458435, 'generation'),\n",
       " (0.6535366773605347, 'phone'),\n",
       " (0.646971583366394, 'nano'),\n",
       " (0.6404775381088257, 'ipad')]"
      ]
     },
     "execution_count": 133,
     "metadata": {},
     "output_type": "execute_result"
    }
   ],
   "source": [
    "model.get_nearest_neighbors(\"iphone\")"
   ]
  },
  {
   "cell_type": "code",
   "execution_count": 134,
   "id": "c2f7cad8",
   "metadata": {},
   "outputs": [
    {
     "name": "stdout",
     "output_type": "stream",
     "text": [
      "Product: iphone\n",
      "apple 0.7442602515220642\n",
      "ipod 0.7395263910293579\n",
      "shell 0.7249903082847595\n",
      "4th 0.7109566926956177\n",
      "tribeca 0.693930983543396\n",
      "3rd 0.6787998676300049\n",
      "generation 0.6646546721458435\n",
      "phone 0.6535366773605347\n",
      "nano 0.646971583366394\n",
      "ipad 0.6404775381088257\n",
      "\n",
      "\n",
      "Product: samsung TV\n",
      "samsung 0.9917891621589661\n",
      "lg 0.6236541271209717\n",
      "sony 0.5464914441108704\n",
      "toshiba 0.5287562608718872\n",
      "galaxy 0.5186451077461243\n",
      "3d 0.5137705206871033\n",
      "htc 0.5132042169570923\n",
      "hdtv 0.5097765326499939\n",
      "zagg 0.504116415977478\n",
      "120hz 0.5033263564109802\n",
      "\n",
      "\n",
      "Product: LCD TV\n",
      "windows 0.3449544608592987\n",
      "mac 0.30808645486831665\n",
      "adobe 0.2856835722923279\n",
      "deluxe 0.272208034992218\n",
      "kitchenaid 0.265127032995224\n",
      "cup 0.2624920606613159\n",
      "platinum 0.2599470913410187\n",
      "stand 0.25896310806274414\n",
      "biscuit 0.25886476039886475\n",
      "standard 0.2516326606273651\n",
      "\n",
      "\n",
      "Product: xbox\n",
      "360 0.9653497934341431\n",
      "guide 0.8618823885917664\n",
      "playstation 0.8456032872200012\n",
      "bundle 0.8282456994056702\n",
      "ps2 0.7984563708305359\n",
      "controller 0.7926873564720154\n",
      "gamecube 0.785858690738678\n",
      "catz 0.784999430179596\n",
      "mad 0.7771909236907959\n",
      "wii 0.7418030500411987\n",
      "\n",
      "\n"
     ]
    }
   ],
   "source": [
    "import json\n",
    "\n",
    "products = [\n",
    "    \"iphone\",\n",
    "    \"samsung TV\",\n",
    "    \"LCD TV\",\n",
    "    \"xbox\"\n",
    "]\n",
    "\n",
    "for product in products:\n",
    "    res = model.get_nearest_neighbors(product)\n",
    "    \n",
    "    print(\"Product:\", product)\n",
    "    for item in res:\n",
    "        print(item[1], item[0])\n",
    "        \n",
    "    print(\"\\n\")\n",
    "    \n",
    "    \n",
    "    "
   ]
  },
  {
   "cell_type": "code",
   "execution_count": 135,
   "id": "e96ae39a",
   "metadata": {},
   "outputs": [],
   "source": [
    "model.save_model(\"/workspace/search_with_machine_learning_course/model_titles.bin\")"
   ]
  },
  {
   "cell_type": "code",
   "execution_count": 46,
   "id": "d8ca0d82",
   "metadata": {},
   "outputs": [],
   "source": [
    "# Trained the phone model:\n",
    "# ~/fastText-0.9.2/fasttext skipgram -input /workspace/datasets/fasttext/titles.txt -output /workspace/datasets/fasttext/phone_model -epoch 25"
   ]
  },
  {
   "cell_type": "code",
   "execution_count": null,
   "id": "1d7ee86f",
   "metadata": {},
   "outputs": [],
   "source": []
  }
 ],
 "metadata": {
  "kernelspec": {
   "display_name": "Python 3 (ipykernel)",
   "language": "python",
   "name": "python3"
  },
  "language_info": {
   "codemirror_mode": {
    "name": "ipython",
    "version": 3
   },
   "file_extension": ".py",
   "mimetype": "text/x-python",
   "name": "python",
   "nbconvert_exporter": "python",
   "pygments_lexer": "ipython3",
   "version": "3.9.7"
  }
 },
 "nbformat": 4,
 "nbformat_minor": 5
}
