{
 "cells": [
  {
   "cell_type": "code",
   "execution_count": 1,
   "id": "d8956540",
   "metadata": {},
   "outputs": [],
   "source": [
    "import argparse\n",
    "import os\n",
    "import random\n",
    "import re\n",
    "import xml.etree.ElementTree as ET\n",
    "from pathlib import Path\n",
    "import pandas as pd\n",
    "import numpy as np\n"
   ]
  },
  {
   "cell_type": "code",
   "execution_count": 2,
   "id": "d063df26",
   "metadata": {},
   "outputs": [],
   "source": [
    "directory = r'/workspace/search_with_machine_learning_course/data/pruned_products'\n",
    "output_file = r'/workspace/datasets/fasttext/titles.txt'"
   ]
  },
  {
   "cell_type": "code",
   "execution_count": 3,
   "id": "8ad78691",
   "metadata": {},
   "outputs": [],
   "source": [
    "\n",
    "def transform_training_data(name):\n",
    "    name = name.lower()\n",
    "    name = re.sub(\"[^0-9a-zA-Z]+\", \" \", name)\n",
    "    name = re.sub(r'[^\\w]|\\t|\\n', ' ', name)\n",
    "    \n",
    "    return name\n"
   ]
  },
  {
   "cell_type": "code",
   "execution_count": 4,
   "id": "d858b216",
   "metadata": {},
   "outputs": [],
   "source": [
    "titles = []\n",
    "sample_rate = 1\n",
    "\n",
    "for filename in os.listdir(directory):\n",
    "    if filename.endswith(\".xml\"):\n",
    "        f = os.path.join(directory, filename)\n",
    "        tree = ET.parse(f)\n",
    "        root = tree.getroot()\n",
    "        for child in root:\n",
    "            if random.random() > 0.1:\n",
    "                continue\n",
    "            if (child.find('name') is not None and child.find('name').text is not None):\n",
    "                name = transform_training_data(child.find('name').text)\n",
    "                titles.append(name)"
   ]
  },
  {
   "cell_type": "code",
   "execution_count": 5,
   "id": "6467d0fd",
   "metadata": {},
   "outputs": [],
   "source": [
    "df = pd.DataFrame(titles)"
   ]
  },
  {
   "cell_type": "code",
   "execution_count": 6,
   "id": "b0bb0d47",
   "metadata": {},
   "outputs": [
    {
     "data": {
      "text/plain": [
       "11455"
      ]
     },
     "execution_count": 6,
     "metadata": {},
     "output_type": "execute_result"
    }
   ],
   "source": [
    "df.size"
   ]
  },
  {
   "cell_type": "code",
   "execution_count": 7,
   "id": "2a646c28",
   "metadata": {},
   "outputs": [
    {
     "data": {
      "text/html": [
       "<div>\n",
       "<style scoped>\n",
       "    .dataframe tbody tr th:only-of-type {\n",
       "        vertical-align: middle;\n",
       "    }\n",
       "\n",
       "    .dataframe tbody tr th {\n",
       "        vertical-align: top;\n",
       "    }\n",
       "\n",
       "    .dataframe thead th {\n",
       "        text-align: right;\n",
       "    }\n",
       "</style>\n",
       "<table border=\"1\" class=\"dataframe\">\n",
       "  <thead>\n",
       "    <tr style=\"text-align: right;\">\n",
       "      <th></th>\n",
       "      <th>0</th>\n",
       "    </tr>\n",
       "  </thead>\n",
       "  <tbody>\n",
       "    <tr>\n",
       "      <th>0</th>\n",
       "      <td>linksys desktop 10 100 pci network card</td>\n",
       "    </tr>\n",
       "    <tr>\n",
       "      <th>1</th>\n",
       "      <td>pioneer 50w x 4 mosfet apple ipod hd radio rea...</td>\n",
       "    </tr>\n",
       "    <tr>\n",
       "      <th>2</th>\n",
       "      <td>sauder big screen tv home entertainment center</td>\n",
       "    </tr>\n",
       "  </tbody>\n",
       "</table>\n",
       "</div>"
      ],
      "text/plain": [
       "                                                   0\n",
       "0            linksys desktop 10 100 pci network card\n",
       "1  pioneer 50w x 4 mosfet apple ipod hd radio rea...\n",
       "2     sauder big screen tv home entertainment center"
      ]
     },
     "execution_count": 7,
     "metadata": {},
     "output_type": "execute_result"
    }
   ],
   "source": [
    "df.head(3)"
   ]
  },
  {
   "cell_type": "code",
   "execution_count": 8,
   "id": "5353a851",
   "metadata": {},
   "outputs": [],
   "source": [
    " import fasttext"
   ]
  },
  {
   "cell_type": "code",
   "execution_count": 9,
   "id": "d882762a",
   "metadata": {},
   "outputs": [],
   "source": [
    "np.savetxt(r\"/workspace/datasets/fasttext/titles.txt\", df.values, fmt='%s')"
   ]
  },
  {
   "cell_type": "code",
   "execution_count": 10,
   "id": "04bf4534",
   "metadata": {},
   "outputs": [
    {
     "name": "stderr",
     "output_type": "stream",
     "text": [
      "Read 0M words\n",
      "Number of words:  2357\n",
      "Number of labels: 0\n",
      "Progress: 100.0% words/sec/thread:   61208 lr:  0.000000 avg.loss:  2.759538 ETA:   0h 0m 0s100.1% words/sec/thread:   61232 lr: -0.000027 avg.loss:  2.759538 ETA:   0h 0m 0s\n"
     ]
    }
   ],
   "source": [
    "model = fasttext.train_unsupervised(input=\"/workspace/datasets/fasttext/titles.txt\", model='skipgram')"
   ]
  },
  {
   "cell_type": "code",
   "execution_count": 11,
   "id": "eb77457c",
   "metadata": {},
   "outputs": [
    {
     "data": {
      "text/plain": [
       "[(0.9867191314697266, 'phones'),\n",
       " (0.9778130650520325, 'phone'),\n",
       " (0.9739911556243896, 'earphones'),\n",
       " (0.9707987904548645, 'headphone'),\n",
       " (0.9559227228164673, 'headphones'),\n",
       " (0.9531955122947693, 'mobile'),\n",
       " (0.944339394569397, 'microphone'),\n",
       " (0.9416788220405579, 'microphones'),\n",
       " (0.9328449368476868, 'smartphones'),\n",
       " (0.9210118651390076, 'apple')]"
      ]
     },
     "execution_count": 11,
     "metadata": {},
     "output_type": "execute_result"
    }
   ],
   "source": [
    "model.get_nearest_neighbors(\"iphone\")"
   ]
  },
  {
   "cell_type": "code",
   "execution_count": 12,
   "id": "f1768d3d",
   "metadata": {},
   "outputs": [
    {
     "name": "stderr",
     "output_type": "stream",
     "text": [
      "Read 0M words\n",
      "Number of words:  556\n",
      "Number of labels: 0\n",
      "Progress: 100.0% words/sec/thread:  122261 lr:  0.000000 avg.loss:  1.739114 ETA:   0h 0m 0s\n"
     ]
    }
   ],
   "source": [
    "model = fasttext.train_unsupervised(input=\"/workspace/datasets/fasttext/titles.txt\", model='skipgram', epoch=20, minCount=30)"
   ]
  },
  {
   "cell_type": "code",
   "execution_count": 13,
   "id": "f47793be",
   "metadata": {},
   "outputs": [
    {
     "data": {
      "text/plain": [
       "[(0.8645359873771667, '4s'),\n",
       " (0.7719354629516602, 'apple'),\n",
       " (0.7404201626777649, 'ipod'),\n",
       " (0.6853405237197876, 'phone'),\n",
       " (0.6746233701705933, 'shell'),\n",
       " (0.6469794511795044, 'at'),\n",
       " (0.6440153121948242, 'pangea'),\n",
       " (0.6385045051574707, 'ipad'),\n",
       " (0.6273909211158752, 'generation'),\n",
       " (0.6253519058227539, '4th')]"
      ]
     },
     "execution_count": 13,
     "metadata": {},
     "output_type": "execute_result"
    }
   ],
   "source": [
    "model.get_nearest_neighbors(\"iphone\")"
   ]
  },
  {
   "cell_type": "code",
   "execution_count": 14,
   "id": "c2f7cad8",
   "metadata": {},
   "outputs": [
    {
     "name": "stdout",
     "output_type": "stream",
     "text": [
      "Product: iphone\n",
      "4s 0.8645359873771667\n",
      "apple 0.7719354629516602\n",
      "ipod 0.7404201626777649\n",
      "phone 0.6853405237197876\n",
      "shell 0.6746233701705933\n",
      "at 0.6469794511795044\n",
      "pangea 0.6440153121948242\n",
      "ipad 0.6385045051574707\n",
      "generation 0.6273909211158752\n",
      "4th 0.6253519058227539\n",
      "\n",
      "\n",
      "Product: razr\n",
      "ray 0.7641907334327698\n",
      "blu 0.7396956086158752\n",
      "oven 0.7262805104255676\n",
      "range 0.7146920561790466\n",
      "hood 0.7011908292770386\n",
      "cooktop 0.693711519241333\n",
      "convection 0.6768168210983276\n",
      "built 0.6743932366371155\n",
      "dishwasher 0.6674908995628357\n",
      "rack 0.6462004780769348\n",
      "\n",
      "\n",
      "Product: blackberry\n",
      "htc 0.8313192129135132\n",
      "mobile 0.7836642861366272\n",
      "phones 0.7506168484687805\n",
      "motorola 0.7405303120613098\n",
      "unlocked 0.7362288236618042\n",
      "phone 0.6950275301933289\n",
      "rocketfish 0.6755998730659485\n",
      "leather 0.6607849597930908\n",
      "cell 0.6602796912193298\n",
      "shell 0.6408994793891907\n",
      "\n",
      "\n",
      "Product: ipad\n",
      "sleeve 0.7500386834144592\n",
      "apple 0.7427287697792053\n",
      "kindle 0.7178682684898376\n",
      "generation 0.7024156451225281\n",
      "cover 0.6983477473258972\n",
      "targus 0.6829394698143005\n",
      "accessories 0.6799216866493225\n",
      "tribeca 0.6791162490844727\n",
      "pad 0.660266101360321\n",
      "iphone 0.6385046243667603\n",
      "\n",
      "\n",
      "Product: lenovo\n",
      "inspiron 0.8113617897033691\n",
      "dell 0.7584713697433472\n",
      "6gb 0.7516655921936035\n",
      "i3 0.7243431210517883\n",
      "acer 0.7059249877929688\n",
      "500gb 0.701850950717926\n",
      "gateway 0.6946421265602112\n",
      "display 0.6750701069831848\n",
      "pavilion 0.6651542782783508\n",
      "1tb 0.6570740342140198\n",
      "\n",
      "\n",
      "Product: thinkpad\n",
      "pad 0.8148902058601379\n",
      "ipad 0.77778559923172\n",
      "mad 0.7438079118728638\n",
      "catz 0.7292630672454834\n",
      "accessories 0.7161937952041626\n",
      "sales 0.7118549942970276\n",
      "mouse 0.7044777870178223\n",
      "kindle 0.6979002952575684\n",
      "sleeve 0.6853048801422119\n",
      "targus 0.6688991189002991\n",
      "\n",
      "\n",
      "Product: sony\n",
      "cyber 0.6305733919143677\n",
      "shot 0.5598563551902771\n",
      "vaio 0.5349851250648499\n",
      "panasonic 0.5085272789001465\n",
      "tuner 0.5081095099449158\n",
      "2mp 0.49526724219322205\n",
      "jvc 0.4824438691139221\n",
      "samsung 0.47127947211265564\n",
      "digital 0.46460095047950745\n",
      "olympus 0.46108320355415344\n",
      "\n",
      "\n",
      "Product: samsung\n",
      "lg 0.6982583403587341\n",
      "htc 0.5764012336730957\n",
      "galaxy 0.5735535621643066\n",
      "3d 0.5615460872650146\n",
      "blu 0.5604086518287659\n",
      "mobile 0.5415347218513489\n",
      "120hz 0.5355622172355652\n",
      "1080p 0.5332255959510803\n",
      "plasma 0.521898627281189\n",
      "blackberry 0.5058702230453491\n",
      "\n",
      "\n",
      "Product: sanyo\n",
      "san 0.9384940266609192\n",
      "new 0.7757895588874817\n",
      "york 0.7523230314254761\n",
      "pad 0.7224121689796448\n",
      "sales 0.7215471863746643\n",
      "tribeca 0.719207227230072\n",
      "mouse 0.69837486743927\n",
      "team 0.6754618883132935\n",
      "company 0.6654384136199951\n",
      "state 0.6552400588989258\n",
      "\n",
      "\n",
      "Product: xbox\n",
      "360 0.9453590512275696\n",
      "ps2 0.8686618208885193\n",
      "guide 0.8634274005889893\n",
      "psp 0.8356313705444336\n",
      "playstation 0.8280192613601685\n",
      "hits 0.7979464530944824\n",
      "game 0.7672262191772461\n",
      "catz 0.764796257019043\n",
      "gamecube 0.7638458609580994\n",
      "of 0.7554233074188232\n",
      "\n",
      "\n",
      "Product: playstation\n",
      "xbox 0.828019380569458\n",
      "360 0.8240317702293396\n",
      "ps2 0.821426272392273\n",
      "guide 0.8178160786628723\n",
      "catz 0.8000702261924744\n",
      "mad 0.7947543263435364\n",
      "psp 0.7720429301261902\n",
      "gamecube 0.7567067742347717\n",
      "ds 0.7463952302932739\n",
      "of 0.7217109203338623\n",
      "\n",
      "\n",
      "Product: nintendo\n",
      "wii 0.8898447751998901\n",
      "ds 0.8556461930274963\n",
      "gamecube 0.8498684763908386\n",
      "of 0.7633687853813171\n",
      "guide 0.7572845816612244\n",
      "ps2 0.739310622215271\n",
      "party 0.7317808866500854\n",
      "game 0.7031576633453369\n",
      "catz 0.7008993029594421\n",
      "playstation 0.6942690014839172\n",
      "\n",
      "\n",
      "Product: mario\n",
      "marine 0.9107962846755981\n",
      "radio 0.7872520089149475\n",
      "50w 0.7740328907966614\n",
      "kenwood 0.771379828453064\n",
      "mosfet 0.7430164813995361\n",
      "ohm 0.7337282299995422\n",
      "coil 0.7255571484565735\n",
      "deck 0.7108383178710938\n",
      "pioneer 0.7016716599464417\n",
      "dash 0.6846902370452881\n",
      "\n",
      "\n"
     ]
    }
   ],
   "source": [
    "import json\n",
    "\n",
    "products = [\n",
    "    \"iphone\",\n",
    "    \"razr\",\n",
    "    \"blackberry\",\n",
    "\n",
    "    \"ipad\",\n",
    "    \"lenovo\",\n",
    "    \"thinkpad\",\n",
    "    \n",
    "    \"sony\",\n",
    "    \"samsung\",\n",
    "    \"sanyo\",\n",
    "    \n",
    "    \"xbox\",\n",
    "    \"playstation\",\n",
    "    \"nintendo\",\n",
    "    \"mario\",\n",
    "]\n",
    "\n",
    "for product in products:\n",
    "    res = model.get_nearest_neighbors(product)\n",
    "    \n",
    "    print(\"Product:\", product)\n",
    "    for item in res:\n",
    "        print(item[1], item[0])\n",
    "        \n",
    "    print(\"\\n\")\n",
    "    \n",
    "    \n",
    "    "
   ]
  },
  {
   "cell_type": "code",
   "execution_count": 15,
   "id": "e96ae39a",
   "metadata": {},
   "outputs": [],
   "source": [
    "model.save_model(\"/workspace/search_with_machine_learning_course/model_titles.bin\")"
   ]
  },
  {
   "cell_type": "code",
   "execution_count": 46,
   "id": "d8ca0d82",
   "metadata": {},
   "outputs": [],
   "source": [
    "# Trained the phone model:\n",
    "# ~/fastText-0.9.2/fasttext skipgram -input /workspace/datasets/fasttext/titles.txt -output /workspace/datasets/fasttext/phone_model -epoch 25"
   ]
  },
  {
   "cell_type": "code",
   "execution_count": null,
   "id": "1d7ee86f",
   "metadata": {},
   "outputs": [],
   "source": []
  }
 ],
 "metadata": {
  "kernelspec": {
   "display_name": "Python 3 (ipykernel)",
   "language": "python",
   "name": "python3"
  },
  "language_info": {
   "codemirror_mode": {
    "name": "ipython",
    "version": 3
   },
   "file_extension": ".py",
   "mimetype": "text/x-python",
   "name": "python",
   "nbconvert_exporter": "python",
   "pygments_lexer": "ipython3",
   "version": "3.9.7"
  }
 },
 "nbformat": 4,
 "nbformat_minor": 5
}
