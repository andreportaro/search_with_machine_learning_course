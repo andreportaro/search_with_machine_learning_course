{
 "cells": [
  {
   "cell_type": "code",
   "execution_count": 1,
   "id": "d8956540",
   "metadata": {},
   "outputs": [],
   "source": [
    "import argparse\n",
    "import os\n",
    "import random\n",
    "import re\n",
    "import xml.etree.ElementTree as ET\n",
    "from pathlib import Path\n",
    "import pandas as pd\n",
    "import numpy as np\n"
   ]
  },
  {
   "cell_type": "code",
   "execution_count": 2,
   "id": "d063df26",
   "metadata": {},
   "outputs": [],
   "source": [
    "directory = r'/workspace/search_with_machine_learning_course/data/pruned_products'\n",
    "output_file = r'/workspace/datasets/fasttext/titles.txt'"
   ]
  },
  {
   "cell_type": "code",
   "execution_count": 3,
   "id": "8ad78691",
   "metadata": {},
   "outputs": [],
   "source": [
    "\n",
    "def transform_training_data(name):\n",
    "    name = name.lower()\n",
    "    re.sub(r'[^\\w]', ' ', name)\n",
    "\n",
    "    return name.replace('\\n', ' ')\n"
   ]
  },
  {
   "cell_type": "code",
   "execution_count": null,
   "id": "d858b216",
   "metadata": {},
   "outputs": [],
   "source": [
    "titles = []\n",
    "sample_rate = 1\n",
    "\n",
    "for filename in os.listdir(directory):\n",
    "    if filename.endswith(\".xml\"):\n",
    "        f = os.path.join(directory, filename)\n",
    "        tree = ET.parse(f)\n",
    "        root = tree.getroot()\n",
    "        for child in root:\n",
    "            if random.random() > 0.1:\n",
    "                continue\n",
    "            if (child.find('name') is not None and child.find('name').text is not None):\n",
    "                name = transform_training_data(child.find('name').text)\n",
    "                titles.append(name)"
   ]
  },
  {
   "cell_type": "code",
   "execution_count": null,
   "id": "6467d0fd",
   "metadata": {},
   "outputs": [],
   "source": [
    "df = pd.DataFrame(titles)"
   ]
  },
  {
   "cell_type": "code",
   "execution_count": 6,
   "id": "b0bb0d47",
   "metadata": {},
   "outputs": [
    {
     "data": {
      "text/plain": [
       "11448"
      ]
     },
     "execution_count": 6,
     "metadata": {},
     "output_type": "execute_result"
    }
   ],
   "source": [
    "df.size"
   ]
  },
  {
   "cell_type": "code",
   "execution_count": 7,
   "id": "2a646c28",
   "metadata": {},
   "outputs": [
    {
     "data": {
      "text/html": [
       "<div>\n",
       "<style scoped>\n",
       "    .dataframe tbody tr th:only-of-type {\n",
       "        vertical-align: middle;\n",
       "    }\n",
       "\n",
       "    .dataframe tbody tr th {\n",
       "        vertical-align: top;\n",
       "    }\n",
       "\n",
       "    .dataframe thead th {\n",
       "        text-align: right;\n",
       "    }\n",
       "</style>\n",
       "<table border=\"1\" class=\"dataframe\">\n",
       "  <thead>\n",
       "    <tr style=\"text-align: right;\">\n",
       "      <th></th>\n",
       "      <th>0</th>\n",
       "    </tr>\n",
       "  </thead>\n",
       "  <tbody>\n",
       "    <tr>\n",
       "      <th>0</th>\n",
       "      <td>lg - nitro hd 4g mobile phone - black (at&amp;t)</td>\n",
       "    </tr>\n",
       "    <tr>\n",
       "      <th>1</th>\n",
       "      <td>delorme - inreach 2-way satellite communicator...</td>\n",
       "    </tr>\n",
       "    <tr>\n",
       "      <th>2</th>\n",
       "      <td>memorex - slim jewel cases (30-pack) - assorted</td>\n",
       "    </tr>\n",
       "  </tbody>\n",
       "</table>\n",
       "</div>"
      ],
      "text/plain": [
       "                                                   0\n",
       "0       lg - nitro hd 4g mobile phone - black (at&t)\n",
       "1  delorme - inreach 2-way satellite communicator...\n",
       "2    memorex - slim jewel cases (30-pack) - assorted"
      ]
     },
     "execution_count": 7,
     "metadata": {},
     "output_type": "execute_result"
    }
   ],
   "source": [
    "df.head(3)"
   ]
  },
  {
   "cell_type": "code",
   "execution_count": 8,
   "id": "5353a851",
   "metadata": {},
   "outputs": [],
   "source": [
    " import fasttext"
   ]
  },
  {
   "cell_type": "code",
   "execution_count": 11,
   "id": "d882762a",
   "metadata": {},
   "outputs": [],
   "source": [
    "np.savetxt(r\"/workspace/datasets/fasttext/titles.txt\", df.values, fmt='%s')"
   ]
  },
  {
   "cell_type": "code",
   "execution_count": 12,
   "id": "04bf4534",
   "metadata": {},
   "outputs": [
    {
     "name": "stderr",
     "output_type": "stream",
     "text": [
      "Read 0M words\n",
      "Number of words:  2471\n",
      "Number of labels: 0\n",
      "Progress: 100.0% words/sec/thread:   64564 lr:  0.000000 avg.loss:  2.702547 ETA:   0h 0m 0s\n"
     ]
    }
   ],
   "source": [
    "model = fasttext.train_unsupervised(input=\"/workspace/datasets/fasttext/titles.txt\", model='skipgram')"
   ]
  },
  {
   "cell_type": "code",
   "execution_count": 53,
   "id": "eb77457c",
   "metadata": {},
   "outputs": [
    {
     "data": {
      "text/plain": [
       "[(0.5816837549209595, 'iphone®'),\n",
       " (0.56773841381073, 'apple®'),\n",
       " (0.5520244836807251, 'iphone®,'),\n",
       " (0.5504394769668579, '3gs'),\n",
       " (0.5457756519317627, '3g/3g'),\n",
       " (0.5380159020423889, 'iphoneâ®'),\n",
       " (0.5269085168838501, 'incase'),\n",
       " (0.506147027015686, '050'),\n",
       " (0.5046433210372925, 'elan'),\n",
       " (0.49777185916900635, 'apple')]"
      ]
     },
     "execution_count": 53,
     "metadata": {},
     "output_type": "execute_result"
    }
   ],
   "source": [
    "model.get_nearest_neighbors(\"iphone\")"
   ]
  },
  {
   "cell_type": "code",
   "execution_count": 68,
   "id": "613b8690",
   "metadata": {},
   "outputs": [
    {
     "name": "stderr",
     "output_type": "stream",
     "text": [
      "Read 0M words\n",
      "Number of words:  364\n",
      "Number of labels: 0\n",
      "Progress: 100.0% words/sec/thread:  219558 lr:  0.000000 avg.loss:  2.199552 ETA:   0h 0m 0s\n"
     ]
    }
   ],
   "source": [
    "model = fasttext.train_unsupervised(input=\"/workspace/datasets/fasttext/titles.txt\", model='skipgram', lr=0.05, epoch=25, minCount=10)"
   ]
  },
  {
   "cell_type": "code",
   "execution_count": 69,
   "id": "1ad54e07",
   "metadata": {},
   "outputs": [
    {
     "data": {
      "text/plain": [
       "[(0.9258624315261841, 'iphone®'),\n",
       " (0.8793050646781921, 'apple®'),\n",
       " (0.8637220859527588, '3gs'),\n",
       " (0.8134299516677856, 'apple'),\n",
       " (0.8021686673164368, '4'),\n",
       " (0.799534261226654, '3g/3g'),\n",
       " (0.7931521534919739, 'incase'),\n",
       " (0.7760315537452698, '3g/3gs'),\n",
       " (0.7680350542068481, '3g'),\n",
       " (0.7558871507644653, 'luxe')]"
      ]
     },
     "execution_count": 69,
     "metadata": {},
     "output_type": "execute_result"
    }
   ],
   "source": [
    "model.get_nearest_neighbors(\"iphone\")"
   ]
  },
  {
   "cell_type": "code",
   "execution_count": 47,
   "id": "1ec84bf7",
   "metadata": {},
   "outputs": [
    {
     "name": "stdout",
     "output_type": "stream",
     "text": [
      "0.9260885715484619\n",
      "0.7860994338989258\n",
      "0.7013247013092041\n",
      "0.6790842413902283\n",
      "0.6398615837097168\n",
      "0.6282010674476624\n",
      "0.6272938847541809\n",
      "0.6165014505386353\n",
      "0.6139096617698669\n",
      "0.6094344258308411\n",
      "0.9882978796958923\n",
      "0.6968414783477783\n",
      "0.5811522603034973\n",
      "0.517500638961792\n",
      "0.5130367279052734\n",
      "0.49001213908195496\n",
      "0.48963284492492676\n",
      "0.47938981652259827\n",
      "0.4731709957122803\n",
      "0.47283244132995605\n",
      "0.276762992143631\n",
      "0.2600076496601105\n",
      "0.25027015805244446\n",
      "0.246711865067482\n",
      "0.24017852544784546\n",
      "0.23896008729934692\n",
      "0.23508991301059723\n",
      "0.2281198650598526\n",
      "0.22698526084423065\n",
      "0.2262667566537857\n",
      "0.8449680209159851\n",
      "0.821498692035675\n",
      "0.8123121857643127\n",
      "0.8023239374160767\n",
      "0.7758312821388245\n",
      "0.745962917804718\n",
      "0.6897310614585876\n",
      "0.6827021241188049\n",
      "0.6805792450904846\n",
      "0.6768749356269836\n"
     ]
    }
   ],
   "source": [
    "import json\n",
    "\n",
    "products = [\n",
    "    \"iphone\",\n",
    "    \"samsung TV\",\n",
    "    \"LCD TV\",\n",
    "    \"bose soundbar\"\n",
    "]\n",
    "\n",
    "for product in products:\n",
    "    res = model.get_nearest_neighbors(product)\n",
    "    \n",
    "    for item in res:\n",
    "        print(item[0])\n",
    "    \n",
    "    \n",
    "    "
   ]
  },
  {
   "cell_type": "code",
   "execution_count": 44,
   "id": "e96ae39a",
   "metadata": {},
   "outputs": [],
   "source": [
    "model.save_model(\"/workspace/search_with_machine_learning_course/model_titles.bin\")"
   ]
  },
  {
   "cell_type": "code",
   "execution_count": 46,
   "id": "a9a4bc66",
   "metadata": {},
   "outputs": [],
   "source": [
    "# Trained the phone model:\n",
    "# ~/fastText-0.9.2/fasttext skipgram -input /workspace/datasets/fasttext/titles.txt -output /workspace/datasets/fasttext/phone_model -epoch 25"
   ]
  },
  {
   "cell_type": "code",
   "execution_count": null,
   "id": "b118f4a0",
   "metadata": {},
   "outputs": [],
   "source": []
  }
 ],
 "metadata": {
  "kernelspec": {
   "display_name": "Python 3 (ipykernel)",
   "language": "python",
   "name": "python3"
  },
  "language_info": {
   "codemirror_mode": {
    "name": "ipython",
    "version": 3
   },
   "file_extension": ".py",
   "mimetype": "text/x-python",
   "name": "python",
   "nbconvert_exporter": "python",
   "pygments_lexer": "ipython3",
   "version": "3.9.7"
  }
 },
 "nbformat": 4,
 "nbformat_minor": 5
}
